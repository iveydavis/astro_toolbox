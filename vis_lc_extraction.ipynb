{
 "cells": [
  {
   "cell_type": "code",
   "execution_count": 1,
   "id": "503d22d0",
   "metadata": {},
   "outputs": [
    {
     "data": {
      "text/plain": [
       "<module 'vis_lc_extraction' from '/opt/devel/idavis/scripts/vis_lc_extraction.py'>"
      ]
     },
     "execution_count": 1,
     "metadata": {},
     "output_type": "execute_result"
    }
   ],
   "source": [
    "import vis_lc_extraction\n",
    "import glob\n",
    "import matplotlib.pyplot as plt\n",
    "import importlib\n",
    "from astropy.time import Time\n",
    "import numpy as np\n",
    "importlib.reload(vis_lc_extraction)"
   ]
  },
  {
   "cell_type": "markdown",
   "id": "e50765d6",
   "metadata": {},
   "source": [
    "## Get list of FITS images to be used in source identification"
   ]
  },
  {
   "cell_type": "code",
   "execution_count": 2,
   "id": "975edc68",
   "metadata": {},
   "outputs": [],
   "source": [
    "dir_head = '/lustre/celery/snap.I.image.fits/'\n",
    "dir_freqs = glob.glob(f\"{dir_head}/*\")\n",
    "dir_freqs.sort()\n",
    "dir_hours = []\n",
    "for freq in dir_freqs:\n",
    "    fns = glob.glob(f\"{freq}/2024-05-24/*\")\n",
    "    fns.sort()\n",
    "    dir_hours.append(fns)\n",
    "    \n",
    "fns = glob.glob(f\"{dir_hours[-1][0]}/*\")\n",
    "fns.sort()"
   ]
  },
  {
   "cell_type": "markdown",
   "id": "b77fa1c3",
   "metadata": {},
   "source": [
    "## Initialize an instance of the lightcurve_extraction class\n",
    "\n",
    "If images are already the right size, then you can go ahead and assign the crop_fns and crop_path properties with that information, but you will also need to update the times property, either by assigning it manually or by running the `lc_ext.get_timestamps()` function\n",
    "\n"
   ]
  },
  {
   "cell_type": "code",
   "execution_count": 3,
   "id": "9380e986",
   "metadata": {},
   "outputs": [
    {
     "name": "stdout",
     "output_type": "stream",
     "text": [
      "/lustre/idavis/2024_05_24_ek_dra/subframe_fits/07_46/2024-05-24T07:00:01.snap.I.image_cropped.fits\n",
      "/lustre/idavis/2024_05_24_ek_dra/subframe_fits/07_46/2024-05-24T07:59:52.snap.I.image_cropped.fits\n"
     ]
    },
    {
     "name": "stderr",
     "output_type": "stream",
     "text": [
      "/opt/devel/idavis/scripts/vis_lc_extraction.py:319: UserWarning: Unable to determine distance of object ek dra\n",
      "  warnings.warn('Unable to determine distance of object '+objID)\n"
     ]
    }
   ],
   "source": [
    "fns_crop = glob.glob('/lustre/idavis/2024_05_24_ek_dra/subframe_fits/07_46/*fits')\n",
    "fns_crop.sort()\n",
    "\n",
    "lc_ext = vis_lc_extraction.lightcurve_extraction('ek dra', fns_crop, '/lustre/idavis/2024_05_24_ek_dra/', obs_time=Time('2024-04-10T00:00:00'))\n",
    "\n",
    "print(fns_crop[0])\n",
    "print(fns_crop[-1])\n",
    "\n",
    "lc_ext.crop_fns = fns_crop\n",
    "lc_ext.crop_path = '/lustre/idavis/2024_05_24_ek_dra/cropped_frames/'\n"
   ]
  },
  {
   "cell_type": "markdown",
   "id": "6b23dfd1",
   "metadata": {},
   "source": [
    "## Get the sources and find which sources are actually associated with each other in each frame\n",
    "\n",
    "If you haven't identified the beam shape parameters first (e.g. if the data were not deconvolved) then you need to run `lc_ext.get_beam_shape_params()` first"
   ]
  },
  {
   "cell_type": "code",
   "execution_count": 4,
   "id": "0e62114c",
   "metadata": {},
   "outputs": [
    {
     "name": "stderr",
     "output_type": "stream",
     "text": [
      "WARNING: NoDetectionsWarning: No sources were found. [photutils.detection.findstars]\n",
      "WARNING: NoDetectionsWarning: Sources were found, but none pass the sharpness and roundness criteria. [photutils.detection.findstars]\n"
     ]
    }
   ],
   "source": [
    "lc_ext.get_source_positions()\n",
    "lc_ext.find_associated_sources()\n",
    "lc_ext.find_persistent_sources()"
   ]
  },
  {
   "cell_type": "markdown",
   "id": "2a8020ab",
   "metadata": {},
   "source": [
    "### `source_positions` comes from `get_source_positions`\n",
    "This is a list of sources found in each frame:"
   ]
  },
  {
   "cell_type": "code",
   "execution_count": 5,
   "id": "92e4b12f",
   "metadata": {},
   "outputs": [
    {
     "data": {
      "text/plain": [
       "<SkyCoord (FK5: equinox=2000.0): (ra, dec) in deg\n",
       "    [(222.82396184, 61.56219854), (217.0881837 , 63.55376231),\n",
       "     (224.87434128, 64.07810853), (220.98419008, 64.58736736),\n",
       "     (223.52557786, 65.4295585 ), (215.29275141, 67.08655724)]>"
      ]
     },
     "execution_count": 5,
     "metadata": {},
     "output_type": "execute_result"
    }
   ],
   "source": [
    "lc_ext.source_positions[0] # sources found in frame 0:"
   ]
  },
  {
   "cell_type": "markdown",
   "id": "c400c822",
   "metadata": {},
   "source": [
    "### `source_dict` and `frame_source_dict` comes from `find_associated_sources`\n",
    "`source_dict` is the final list of \"official\", labelled sources, their average position, and their position in each frame they're detected. `frame_source_dict` is a dictionary of the \"official\" sources in each frame and what their positions were in that frame\n"
   ]
  },
  {
   "cell_type": "code",
   "execution_count": 7,
   "id": "81b676c9",
   "metadata": {},
   "outputs": [
    {
     "name": "stdout",
     "output_type": "stream",
     "text": [
      "[<SkyCoord (FK5: equinox=2000.0): (ra, dec) in deg\n",
      "    (222.82396184, 61.56219854)>, <SkyCoord (FK5: equinox=2000.0): (ra, dec) in deg\n",
      "    (222.61344372, 61.53918646)>, <SkyCoord (FK5: equinox=2000.0): (ra, dec) in deg\n",
      "    (222.87346253, 61.43255235)>, <SkyCoord (FK5: equinox=2000.0): (ra, dec) in deg\n",
      "    (222.72525537, 61.63619081)>, <SkyCoord (FK5: equinox=2000.0): (ra, dec) in deg\n",
      "    (222.65280896, 61.63572852)>]\n",
      "\n",
      " Mean position of source_00:<SkyCoord (FK5: equinox=J2000.000): (ra, dec) in deg\n",
      "    (222.71038352, 61.58859216)>\n",
      "\n",
      "All 'official' sources found in frame 0: {'sources': ['source_00', 'source_01', 'source_02', 'source_03', 'source_04', 'source_05'], 'positions': [<SkyCoord (FK5: equinox=2000.0): (ra, dec) in deg\n",
      "    (222.82396184, 61.56219854)>, <SkyCoord (FK5: equinox=2000.0): (ra, dec) in deg\n",
      "    (217.0881837, 63.55376231)>, <SkyCoord (FK5: equinox=2000.0): (ra, dec) in deg\n",
      "    (224.87434128, 64.07810853)>, <SkyCoord (FK5: equinox=2000.0): (ra, dec) in deg\n",
      "    (220.98419008, 64.58736736)>, <SkyCoord (FK5: equinox=2000.0): (ra, dec) in deg\n",
      "    (223.52557786, 65.4295585)>, <SkyCoord (FK5: equinox=2000.0): (ra, dec) in deg\n",
      "    (215.29275141, 67.08655724)>], 'separations': [None, None, None, None, None, None], 'pos_angles': [None, None, None, None, None, None]}\n"
     ]
    }
   ],
   "source": [
    "print(lc_ext.source_dict['source_00'][0:5]) # only listing the first five positions for source_00 here\n",
    "print(f\"\\n Mean position of source_00:{lc_ext.source_dict['source_00_mean_pos']}\\n\")\n",
    "print(f\"All 'official' sources found in frame 0: {lc_ext.frame_source_dict['frame_000']}\")"
   ]
  },
  {
   "cell_type": "markdown",
   "id": "974a2877",
   "metadata": {},
   "source": [
    "## Finds the separation and position angle between a source's position in a given frame and its average position\n",
    "You need to run this to estimate how the position of the star/coordinate of interest changes"
   ]
  },
  {
   "cell_type": "code",
   "execution_count": 8,
   "id": "1cc55ecd",
   "metadata": {},
   "outputs": [],
   "source": [
    "lc_ext.find_separation_and_pos_angs()"
   ]
  },
  {
   "cell_type": "markdown",
   "id": "5e06d65a",
   "metadata": {},
   "source": [
    "## Estimates the change in position of the star/ coordinate of interest based on weighted changes of the surrounding sources that were regularly detected"
   ]
  },
  {
   "cell_type": "code",
   "execution_count": 9,
   "id": "a96ffa1c",
   "metadata": {},
   "outputs": [
    {
     "name": "stderr",
     "output_type": "stream",
     "text": [
      "/opt/devel/idavis/scripts/vis_lc_extraction.py:961: UserWarning: No sources found in the field to estimate position offset for frame frame_017\n",
      "  warnings.warn(f\"No sources found in the field to estimate position offset for frame {frame_key}\")\n",
      "/opt/devel/idavis/scripts/vis_lc_extraction.py:961: UserWarning: No sources found in the field to estimate position offset for frame frame_018\n",
      "  warnings.warn(f\"No sources found in the field to estimate position offset for frame {frame_key}\")\n",
      "/opt/devel/idavis/scripts/vis_lc_extraction.py:961: UserWarning: No sources found in the field to estimate position offset for frame frame_027\n",
      "  warnings.warn(f\"No sources found in the field to estimate position offset for frame {frame_key}\")\n",
      "/opt/devel/idavis/scripts/vis_lc_extraction.py:961: UserWarning: No sources found in the field to estimate position offset for frame frame_032\n",
      "  warnings.warn(f\"No sources found in the field to estimate position offset for frame {frame_key}\")\n",
      "/opt/devel/idavis/scripts/vis_lc_extraction.py:961: UserWarning: No sources found in the field to estimate position offset for frame frame_037\n",
      "  warnings.warn(f\"No sources found in the field to estimate position offset for frame {frame_key}\")\n",
      "/opt/devel/idavis/scripts/vis_lc_extraction.py:961: UserWarning: No sources found in the field to estimate position offset for frame frame_039\n",
      "  warnings.warn(f\"No sources found in the field to estimate position offset for frame {frame_key}\")\n",
      "/opt/devel/idavis/scripts/vis_lc_extraction.py:961: UserWarning: No sources found in the field to estimate position offset for frame frame_041\n",
      "  warnings.warn(f\"No sources found in the field to estimate position offset for frame {frame_key}\")\n",
      "/opt/devel/idavis/scripts/vis_lc_extraction.py:961: UserWarning: No sources found in the field to estimate position offset for frame frame_042\n",
      "  warnings.warn(f\"No sources found in the field to estimate position offset for frame {frame_key}\")\n",
      "/opt/devel/idavis/scripts/vis_lc_extraction.py:961: UserWarning: No sources found in the field to estimate position offset for frame frame_045\n",
      "  warnings.warn(f\"No sources found in the field to estimate position offset for frame {frame_key}\")\n",
      "/opt/devel/idavis/scripts/vis_lc_extraction.py:961: UserWarning: No sources found in the field to estimate position offset for frame frame_054\n",
      "  warnings.warn(f\"No sources found in the field to estimate position offset for frame {frame_key}\")\n",
      "/opt/devel/idavis/scripts/vis_lc_extraction.py:961: UserWarning: No sources found in the field to estimate position offset for frame frame_055\n",
      "  warnings.warn(f\"No sources found in the field to estimate position offset for frame {frame_key}\")\n",
      "/opt/devel/idavis/scripts/vis_lc_extraction.py:961: UserWarning: No sources found in the field to estimate position offset for frame frame_056\n",
      "  warnings.warn(f\"No sources found in the field to estimate position offset for frame {frame_key}\")\n",
      "/opt/devel/idavis/scripts/vis_lc_extraction.py:961: UserWarning: No sources found in the field to estimate position offset for frame frame_064\n",
      "  warnings.warn(f\"No sources found in the field to estimate position offset for frame {frame_key}\")\n",
      "/opt/devel/idavis/scripts/vis_lc_extraction.py:961: UserWarning: No sources found in the field to estimate position offset for frame frame_065\n",
      "  warnings.warn(f\"No sources found in the field to estimate position offset for frame {frame_key}\")\n",
      "/opt/devel/idavis/scripts/vis_lc_extraction.py:961: UserWarning: No sources found in the field to estimate position offset for frame frame_066\n",
      "  warnings.warn(f\"No sources found in the field to estimate position offset for frame {frame_key}\")\n",
      "/opt/devel/idavis/scripts/vis_lc_extraction.py:961: UserWarning: No sources found in the field to estimate position offset for frame frame_070\n",
      "  warnings.warn(f\"No sources found in the field to estimate position offset for frame {frame_key}\")\n",
      "/opt/devel/idavis/scripts/vis_lc_extraction.py:961: UserWarning: No sources found in the field to estimate position offset for frame frame_072\n",
      "  warnings.warn(f\"No sources found in the field to estimate position offset for frame {frame_key}\")\n",
      "/opt/devel/idavis/scripts/vis_lc_extraction.py:961: UserWarning: No sources found in the field to estimate position offset for frame frame_081\n",
      "  warnings.warn(f\"No sources found in the field to estimate position offset for frame {frame_key}\")\n",
      "/opt/devel/idavis/scripts/vis_lc_extraction.py:961: UserWarning: No sources found in the field to estimate position offset for frame frame_101\n",
      "  warnings.warn(f\"No sources found in the field to estimate position offset for frame {frame_key}\")\n",
      "/opt/devel/idavis/scripts/vis_lc_extraction.py:961: UserWarning: No sources found in the field to estimate position offset for frame frame_106\n",
      "  warnings.warn(f\"No sources found in the field to estimate position offset for frame {frame_key}\")\n",
      "/opt/devel/idavis/scripts/vis_lc_extraction.py:961: UserWarning: No sources found in the field to estimate position offset for frame frame_107\n",
      "  warnings.warn(f\"No sources found in the field to estimate position offset for frame {frame_key}\")\n",
      "/opt/devel/idavis/scripts/vis_lc_extraction.py:961: UserWarning: No sources found in the field to estimate position offset for frame frame_108\n",
      "  warnings.warn(f\"No sources found in the field to estimate position offset for frame {frame_key}\")\n",
      "/opt/devel/idavis/scripts/vis_lc_extraction.py:961: UserWarning: No sources found in the field to estimate position offset for frame frame_113\n",
      "  warnings.warn(f\"No sources found in the field to estimate position offset for frame {frame_key}\")\n",
      "/opt/devel/idavis/scripts/vis_lc_extraction.py:961: UserWarning: No sources found in the field to estimate position offset for frame frame_114\n",
      "  warnings.warn(f\"No sources found in the field to estimate position offset for frame {frame_key}\")\n",
      "/opt/devel/idavis/scripts/vis_lc_extraction.py:961: UserWarning: No sources found in the field to estimate position offset for frame frame_129\n",
      "  warnings.warn(f\"No sources found in the field to estimate position offset for frame {frame_key}\")\n",
      "/opt/devel/idavis/scripts/vis_lc_extraction.py:961: UserWarning: No sources found in the field to estimate position offset for frame frame_130\n",
      "  warnings.warn(f\"No sources found in the field to estimate position offset for frame {frame_key}\")\n",
      "/opt/devel/idavis/scripts/vis_lc_extraction.py:961: UserWarning: No sources found in the field to estimate position offset for frame frame_134\n",
      "  warnings.warn(f\"No sources found in the field to estimate position offset for frame {frame_key}\")\n",
      "/opt/devel/idavis/scripts/vis_lc_extraction.py:961: UserWarning: No sources found in the field to estimate position offset for frame frame_141\n",
      "  warnings.warn(f\"No sources found in the field to estimate position offset for frame {frame_key}\")\n",
      "/opt/devel/idavis/scripts/vis_lc_extraction.py:961: UserWarning: No sources found in the field to estimate position offset for frame frame_145\n",
      "  warnings.warn(f\"No sources found in the field to estimate position offset for frame {frame_key}\")\n",
      "/opt/devel/idavis/scripts/vis_lc_extraction.py:961: UserWarning: No sources found in the field to estimate position offset for frame frame_153\n",
      "  warnings.warn(f\"No sources found in the field to estimate position offset for frame {frame_key}\")\n",
      "/opt/devel/idavis/scripts/vis_lc_extraction.py:961: UserWarning: No sources found in the field to estimate position offset for frame frame_154\n",
      "  warnings.warn(f\"No sources found in the field to estimate position offset for frame {frame_key}\")\n",
      "/opt/devel/idavis/scripts/vis_lc_extraction.py:961: UserWarning: No sources found in the field to estimate position offset for frame frame_163\n",
      "  warnings.warn(f\"No sources found in the field to estimate position offset for frame {frame_key}\")\n",
      "/opt/devel/idavis/scripts/vis_lc_extraction.py:961: UserWarning: No sources found in the field to estimate position offset for frame frame_164\n",
      "  warnings.warn(f\"No sources found in the field to estimate position offset for frame {frame_key}\")\n",
      "/opt/devel/idavis/scripts/vis_lc_extraction.py:961: UserWarning: No sources found in the field to estimate position offset for frame frame_172\n",
      "  warnings.warn(f\"No sources found in the field to estimate position offset for frame {frame_key}\")\n",
      "/opt/devel/idavis/scripts/vis_lc_extraction.py:961: UserWarning: No sources found in the field to estimate position offset for frame frame_174\n",
      "  warnings.warn(f\"No sources found in the field to estimate position offset for frame {frame_key}\")\n",
      "/opt/devel/idavis/scripts/vis_lc_extraction.py:961: UserWarning: No sources found in the field to estimate position offset for frame frame_175\n",
      "  warnings.warn(f\"No sources found in the field to estimate position offset for frame {frame_key}\")\n",
      "/opt/devel/idavis/scripts/vis_lc_extraction.py:961: UserWarning: No sources found in the field to estimate position offset for frame frame_176\n",
      "  warnings.warn(f\"No sources found in the field to estimate position offset for frame {frame_key}\")\n",
      "/opt/devel/idavis/scripts/vis_lc_extraction.py:961: UserWarning: No sources found in the field to estimate position offset for frame frame_185\n",
      "  warnings.warn(f\"No sources found in the field to estimate position offset for frame {frame_key}\")\n",
      "/opt/devel/idavis/scripts/vis_lc_extraction.py:961: UserWarning: No sources found in the field to estimate position offset for frame frame_210\n",
      "  warnings.warn(f\"No sources found in the field to estimate position offset for frame {frame_key}\")\n",
      "/opt/devel/idavis/scripts/vis_lc_extraction.py:961: UserWarning: No sources found in the field to estimate position offset for frame frame_211\n",
      "  warnings.warn(f\"No sources found in the field to estimate position offset for frame {frame_key}\")\n",
      "/opt/devel/idavis/scripts/vis_lc_extraction.py:961: UserWarning: No sources found in the field to estimate position offset for frame frame_212\n",
      "  warnings.warn(f\"No sources found in the field to estimate position offset for frame {frame_key}\")\n",
      "/opt/devel/idavis/scripts/vis_lc_extraction.py:961: UserWarning: No sources found in the field to estimate position offset for frame frame_215\n",
      "  warnings.warn(f\"No sources found in the field to estimate position offset for frame {frame_key}\")\n",
      "/opt/devel/idavis/scripts/vis_lc_extraction.py:961: UserWarning: No sources found in the field to estimate position offset for frame frame_216\n",
      "  warnings.warn(f\"No sources found in the field to estimate position offset for frame {frame_key}\")\n",
      "/opt/devel/idavis/scripts/vis_lc_extraction.py:961: UserWarning: No sources found in the field to estimate position offset for frame frame_218\n",
      "  warnings.warn(f\"No sources found in the field to estimate position offset for frame {frame_key}\")\n",
      "/opt/devel/idavis/scripts/vis_lc_extraction.py:961: UserWarning: No sources found in the field to estimate position offset for frame frame_219\n",
      "  warnings.warn(f\"No sources found in the field to estimate position offset for frame {frame_key}\")\n",
      "/opt/devel/idavis/scripts/vis_lc_extraction.py:961: UserWarning: No sources found in the field to estimate position offset for frame frame_220\n",
      "  warnings.warn(f\"No sources found in the field to estimate position offset for frame {frame_key}\")\n",
      "/opt/devel/idavis/scripts/vis_lc_extraction.py:961: UserWarning: No sources found in the field to estimate position offset for frame frame_222\n",
      "  warnings.warn(f\"No sources found in the field to estimate position offset for frame {frame_key}\")\n",
      "/opt/devel/idavis/scripts/vis_lc_extraction.py:961: UserWarning: No sources found in the field to estimate position offset for frame frame_233\n",
      "  warnings.warn(f\"No sources found in the field to estimate position offset for frame {frame_key}\")\n",
      "/opt/devel/idavis/scripts/vis_lc_extraction.py:961: UserWarning: No sources found in the field to estimate position offset for frame frame_251\n",
      "  warnings.warn(f\"No sources found in the field to estimate position offset for frame {frame_key}\")\n",
      "/opt/devel/idavis/scripts/vis_lc_extraction.py:961: UserWarning: No sources found in the field to estimate position offset for frame frame_252\n",
      "  warnings.warn(f\"No sources found in the field to estimate position offset for frame {frame_key}\")\n",
      "/opt/devel/idavis/scripts/vis_lc_extraction.py:961: UserWarning: No sources found in the field to estimate position offset for frame frame_253\n",
      "  warnings.warn(f\"No sources found in the field to estimate position offset for frame {frame_key}\")\n",
      "/opt/devel/idavis/scripts/vis_lc_extraction.py:961: UserWarning: No sources found in the field to estimate position offset for frame frame_254\n",
      "  warnings.warn(f\"No sources found in the field to estimate position offset for frame {frame_key}\")\n",
      "/opt/devel/idavis/scripts/vis_lc_extraction.py:961: UserWarning: No sources found in the field to estimate position offset for frame frame_259\n",
      "  warnings.warn(f\"No sources found in the field to estimate position offset for frame {frame_key}\")\n",
      "/opt/devel/idavis/scripts/vis_lc_extraction.py:961: UserWarning: No sources found in the field to estimate position offset for frame frame_261\n",
      "  warnings.warn(f\"No sources found in the field to estimate position offset for frame {frame_key}\")\n",
      "/opt/devel/idavis/scripts/vis_lc_extraction.py:961: UserWarning: No sources found in the field to estimate position offset for frame frame_269\n",
      "  warnings.warn(f\"No sources found in the field to estimate position offset for frame {frame_key}\")\n",
      "/opt/devel/idavis/scripts/vis_lc_extraction.py:961: UserWarning: No sources found in the field to estimate position offset for frame frame_270\n",
      "  warnings.warn(f\"No sources found in the field to estimate position offset for frame {frame_key}\")\n",
      "/opt/devel/idavis/scripts/vis_lc_extraction.py:961: UserWarning: No sources found in the field to estimate position offset for frame frame_286\n",
      "  warnings.warn(f\"No sources found in the field to estimate position offset for frame {frame_key}\")\n",
      "/opt/devel/idavis/scripts/vis_lc_extraction.py:961: UserWarning: No sources found in the field to estimate position offset for frame frame_287\n",
      "  warnings.warn(f\"No sources found in the field to estimate position offset for frame {frame_key}\")\n",
      "/opt/devel/idavis/scripts/vis_lc_extraction.py:961: UserWarning: No sources found in the field to estimate position offset for frame frame_288\n",
      "  warnings.warn(f\"No sources found in the field to estimate position offset for frame {frame_key}\")\n",
      "/opt/devel/idavis/scripts/vis_lc_extraction.py:961: UserWarning: No sources found in the field to estimate position offset for frame frame_296\n",
      "  warnings.warn(f\"No sources found in the field to estimate position offset for frame {frame_key}\")\n",
      "/opt/devel/idavis/scripts/vis_lc_extraction.py:961: UserWarning: No sources found in the field to estimate position offset for frame frame_303\n",
      "  warnings.warn(f\"No sources found in the field to estimate position offset for frame {frame_key}\")\n",
      "/opt/devel/idavis/scripts/vis_lc_extraction.py:961: UserWarning: No sources found in the field to estimate position offset for frame frame_304\n",
      "  warnings.warn(f\"No sources found in the field to estimate position offset for frame {frame_key}\")\n",
      "/opt/devel/idavis/scripts/vis_lc_extraction.py:961: UserWarning: No sources found in the field to estimate position offset for frame frame_305\n",
      "  warnings.warn(f\"No sources found in the field to estimate position offset for frame {frame_key}\")\n",
      "/opt/devel/idavis/scripts/vis_lc_extraction.py:961: UserWarning: No sources found in the field to estimate position offset for frame frame_306\n",
      "  warnings.warn(f\"No sources found in the field to estimate position offset for frame {frame_key}\")\n",
      "/opt/devel/idavis/scripts/vis_lc_extraction.py:961: UserWarning: No sources found in the field to estimate position offset for frame frame_307\n",
      "  warnings.warn(f\"No sources found in the field to estimate position offset for frame {frame_key}\")\n",
      "/opt/devel/idavis/scripts/vis_lc_extraction.py:961: UserWarning: No sources found in the field to estimate position offset for frame frame_308\n",
      "  warnings.warn(f\"No sources found in the field to estimate position offset for frame {frame_key}\")\n",
      "/opt/devel/idavis/scripts/vis_lc_extraction.py:961: UserWarning: No sources found in the field to estimate position offset for frame frame_311\n",
      "  warnings.warn(f\"No sources found in the field to estimate position offset for frame {frame_key}\")\n",
      "/opt/devel/idavis/scripts/vis_lc_extraction.py:961: UserWarning: No sources found in the field to estimate position offset for frame frame_312\n",
      "  warnings.warn(f\"No sources found in the field to estimate position offset for frame {frame_key}\")\n",
      "/opt/devel/idavis/scripts/vis_lc_extraction.py:961: UserWarning: No sources found in the field to estimate position offset for frame frame_330\n",
      "  warnings.warn(f\"No sources found in the field to estimate position offset for frame {frame_key}\")\n",
      "/opt/devel/idavis/scripts/vis_lc_extraction.py:961: UserWarning: No sources found in the field to estimate position offset for frame frame_333\n",
      "  warnings.warn(f\"No sources found in the field to estimate position offset for frame {frame_key}\")\n",
      "/opt/devel/idavis/scripts/vis_lc_extraction.py:961: UserWarning: No sources found in the field to estimate position offset for frame frame_340\n",
      "  warnings.warn(f\"No sources found in the field to estimate position offset for frame {frame_key}\")\n",
      "/opt/devel/idavis/scripts/vis_lc_extraction.py:961: UserWarning: No sources found in the field to estimate position offset for frame frame_347\n",
      "  warnings.warn(f\"No sources found in the field to estimate position offset for frame {frame_key}\")\n",
      "/opt/devel/idavis/scripts/vis_lc_extraction.py:961: UserWarning: No sources found in the field to estimate position offset for frame frame_348\n",
      "  warnings.warn(f\"No sources found in the field to estimate position offset for frame {frame_key}\")\n",
      "/opt/devel/idavis/scripts/vis_lc_extraction.py:961: UserWarning: No sources found in the field to estimate position offset for frame frame_349\n",
      "  warnings.warn(f\"No sources found in the field to estimate position offset for frame {frame_key}\")\n",
      "/opt/devel/idavis/scripts/vis_lc_extraction.py:961: UserWarning: No sources found in the field to estimate position offset for frame frame_350\n",
      "  warnings.warn(f\"No sources found in the field to estimate position offset for frame {frame_key}\")\n",
      "/opt/devel/idavis/scripts/vis_lc_extraction.py:961: UserWarning: No sources found in the field to estimate position offset for frame frame_351\n",
      "  warnings.warn(f\"No sources found in the field to estimate position offset for frame {frame_key}\")\n",
      "/opt/devel/idavis/scripts/vis_lc_extraction.py:961: UserWarning: No sources found in the field to estimate position offset for frame frame_352\n",
      "  warnings.warn(f\"No sources found in the field to estimate position offset for frame {frame_key}\")\n",
      "/opt/devel/idavis/scripts/vis_lc_extraction.py:961: UserWarning: No sources found in the field to estimate position offset for frame frame_353\n",
      "  warnings.warn(f\"No sources found in the field to estimate position offset for frame {frame_key}\")\n",
      "/opt/devel/idavis/scripts/vis_lc_extraction.py:961: UserWarning: No sources found in the field to estimate position offset for frame frame_354\n",
      "  warnings.warn(f\"No sources found in the field to estimate position offset for frame {frame_key}\")\n",
      "/opt/devel/idavis/scripts/vis_lc_extraction.py:961: UserWarning: No sources found in the field to estimate position offset for frame frame_355\n",
      "  warnings.warn(f\"No sources found in the field to estimate position offset for frame {frame_key}\")\n",
      "/opt/devel/idavis/scripts/vis_lc_extraction.py:961: UserWarning: No sources found in the field to estimate position offset for frame frame_356\n",
      "  warnings.warn(f\"No sources found in the field to estimate position offset for frame {frame_key}\")\n"
     ]
    }
   ],
   "source": [
    "lc_ext.get_star_positions()"
   ]
  },
  {
   "cell_type": "markdown",
   "id": "6d25a86b",
   "metadata": {},
   "source": [
    "## Get the fluxes for the persistently-detected sources and for the position of the star/coordinate"
   ]
  },
  {
   "cell_type": "code",
   "execution_count": 14,
   "id": "38d35c3c",
   "metadata": {},
   "outputs": [],
   "source": [
    "source_fluxes = lc_ext.get_all_source_fluxes()\n",
    "lc_ext.get_star_fluxes()"
   ]
  },
  {
   "cell_type": "code",
   "execution_count": 23,
   "id": "c56d8684",
   "metadata": {},
   "outputs": [
    {
     "data": {
      "text/plain": [
       "Text(0.5, 1.0, 'Flux from location of EK Dra')"
      ]
     },
     "execution_count": 23,
     "metadata": {},
     "output_type": "execute_result"
    },
    {
     "data": {
      "image/png": "[encoded data removed]",
      "text/plain": [
       "<Figure size 792x864 with 2 Axes>"
      ]
     },
     "metadata": {
      "needs_background": "light"
     },
     "output_type": "display_data"
    }
   ],
   "source": [
    "fig, axs = plt.subplots(2,1, sharex = True)\n",
    "fig.set_figheight(12)\n",
    "fig.set_figwidth(11)\n",
    "for i,f in enumerate(source_fluxes.transpose()):\n",
    "    axs[0].scatter(np.linspace(0,len(f),len(f)),f, label = list(lc_ext.persistent_sources.keys())[i])\n",
    "axs[0].legend()\n",
    "axs[1].scatter(np.linspace(0,len(f),len(f)), lc_ext.star_fluxes)\n",
    "\n",
    "axs[0].set_title(\"Persistently-detected sources\")\n",
    "axs[1].set_title(\"Flux from location of EK Dra\")"
   ]
  },
  {
   "cell_type": "markdown",
   "id": "4d873e51",
   "metadata": {},
   "source": [
    "## Can save and load in `lightcurve_extraction` objects "
   ]
  },
  {
   "cell_type": "code",
   "execution_count": 24,
   "id": "b35e7817",
   "metadata": {},
   "outputs": [],
   "source": [
    "lc_ext.save_data(\"/lustre/idavis/2024_05_24_ek_dra/test_saved_light_curve_extraction.npz\")"
   ]
  },
  {
   "cell_type": "code",
   "execution_count": 30,
   "id": "5c8d0f52",
   "metadata": {},
   "outputs": [],
   "source": [
    "lc_ext_reload = vis_lc_extraction.load_data(\"/lustre/idavis/2024_05_24_ek_dra/test_saved_light_curve_extraction.npz\")"
   ]
  },
  {
   "cell_type": "code",
   "execution_count": 31,
   "id": "d1fa7429",
   "metadata": {},
   "outputs": [
    {
     "data": {
      "text/plain": [
       "{'sources': ['source_00',\n",
       "  'source_01',\n",
       "  'source_02',\n",
       "  'source_03',\n",
       "  'source_04',\n",
       "  'source_05'],\n",
       " 'positions': [<SkyCoord (FK5: equinox=2000.0): (ra, dec) in deg\n",
       "      (222.82396184, 61.56219854)>,\n",
       "  <SkyCoord (FK5: equinox=2000.0): (ra, dec) in deg\n",
       "      (217.0881837, 63.55376231)>,\n",
       "  <SkyCoord (FK5: equinox=2000.0): (ra, dec) in deg\n",
       "      (224.87434128, 64.07810853)>,\n",
       "  <SkyCoord (FK5: equinox=2000.0): (ra, dec) in deg\n",
       "      (220.98419008, 64.58736736)>,\n",
       "  <SkyCoord (FK5: equinox=2000.0): (ra, dec) in deg\n",
       "      (223.52557786, 65.4295585)>,\n",
       "  <SkyCoord (FK5: equinox=2000.0): (ra, dec) in deg\n",
       "      (215.29275141, 67.08655724)>],\n",
       " 'separations': [0.06016214597147139,\n",
       "  None,\n",
       "  None,\n",
       "  None,\n",
       "  0.13562265615855565,\n",
       "  None],\n",
       " 'pos_angles': [2.024085017496578, None, None, None, 5.577653274381203, None]}"
      ]
     },
     "execution_count": 31,
     "metadata": {},
     "output_type": "execute_result"
    }
   ],
   "source": [
    "lc_ext_reload.frame_source_dict['frame_000']"
   ]
  }
 ],
 "metadata": {
  "kernelspec": {
   "display_name": "Python 3",
   "language": "python",
   "name": "python3"
  },
  "language_info": {
   "codemirror_mode": {
    "name": "ipython",
    "version": 3
   },
   "file_extension": ".py",
   "mimetype": "text/x-python",
   "name": "python",
   "nbconvert_exporter": "python",
   "pygments_lexer": "ipython3",
   "version": "3.6.13"
  }
 },
 "nbformat": 4,
 "nbformat_minor": 5
}
